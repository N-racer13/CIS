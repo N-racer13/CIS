{
 "cells": [
  {
   "cell_type": "code",
   "execution_count": 18,
   "id": "d3f237b1",
   "metadata": {},
   "outputs": [],
   "source": [
    "import numpy as np\n",
    "import Bernsteins"
   ]
  },
  {
   "cell_type": "code",
   "execution_count": 19,
   "id": "6e638fde",
   "metadata": {},
   "outputs": [],
   "source": [
    "def interpcoefficients(truth, distorted):\n",
    "    \"\"\"\n",
    "    Flatten matrix and then set up a system of least squares using bernsteins polynomials to calculate the correction coefficients\n",
    "    \"\"\"\n",
    "    if len(truth.shape) == 3:\n",
    "        truthc = np.zeros((3, truth.shape[1]*truth.shape[2]))\n",
    "        distortedc = np.zeros((3, distorted.shape[1]*distorted.shape[2]))\n",
    "        for i in range(distorted.shape[2]):\n",
    "            truthc[:,i*truth.shape[1]:(i+1)*truth.shape[1]] = truth[:,:,i]\n",
    "            distortedc[:,i*distorted.shape[1]:(i+1)*distorted.shape[1]] = distorted[:,:,i]\n",
    "    else:\n",
    "        truthc = truth\n",
    "        distortedc = distorted\n",
    "    b = truthc.T\n",
    "    A = np.empty([distortedc.shape[1], 216])\n",
    "    maxs = np.reshape(np.max(distortedc, axis = 1)*3, (3,1)) #this is to ensure that our solution is bounded between 0 and 1 but does not equal 0 or 1\n",
    "    mins = np.reshape(np.min(distortedc, axis = 1)*0.33, (3,1))\n",
    "    distortedc = distortedc-mins\n",
    "    distortedc = distortedc/(maxs-mins)\n",
    "    for i in range(distortedc.shape[1]):\n",
    "        v = distortedc[:,i]\n",
    "        A[i,:] = Bernsteins.fifthbernstein(np.array(v))\n",
    "    return np.linalg.lstsq(A,b)[0], maxs, mins"
   ]
  },
  {
   "cell_type": "code",
   "execution_count": 7,
   "id": "2c6b3d1b",
   "metadata": {},
   "outputs": [],
   "source": [
    "def undistortvector(coeffs, maxs, mins, v):\n",
    "    \"\"\"\n",
    "    Undistort a vector by creating a fifth order tensor and multiplying it by the coefficients set up above  \n",
    "    \"\"\"\n",
    "    u = (v-mins)/(maxs-mins)\n",
    "    tensor = Bernsteins.fifthbernstein(u)\n",
    "    return np.sum(np.multiply(coeffs.T,tensor), axis = 1)"
   ]
  },
  {
   "cell_type": "code",
   "execution_count": 8,
   "id": "1e4f5732",
   "metadata": {},
   "outputs": [],
   "source": [
    "def undistortmatrix(coeffs, maxs, mins, m):\n",
    "    \"\"\"\n",
    "    Undistort a matrix by creating a fifth order tensor and multiplying it by the coefficients set up above  \n",
    "    \"\"\"\n",
    "    undistorted = np.zeros(m.shape)\n",
    "    for i in range(m.shape[1]):\n",
    "        undistorted[:,i] = undistortvector(coeffs, maxs, mins, np.reshape(np.array(m[:,i]),(3,1)))\n",
    "    return undistorted"
   ]
  },
  {
   "cell_type": "code",
   "execution_count": 9,
   "id": "23dd119e",
   "metadata": {},
   "outputs": [],
   "source": [
    "def undistortframes(coeffs, maxs, mins, f):\n",
    "    \"\"\"\n",
    "    Undistort frames by creating a fifth order tensor and multiplying it by the coefficients set up above  \n",
    "    \"\"\"\n",
    "    undistorted = np.zeros(f.shape)\n",
    "    for i in range(f.shape[2]):\n",
    "        undistorted[:,:,i] = undistortmatrix(coeffs, maxs, mins, np.array(f[:,:,i]))\n",
    "    return undistorted"
   ]
  },
  {
   "cell_type": "code",
   "execution_count": null,
   "id": "2d66ec40",
   "metadata": {},
   "outputs": [],
   "source": []
  }
 ],
 "metadata": {
  "kernelspec": {
   "display_name": "Python 3 (ipykernel)",
   "language": "python",
   "name": "python3"
  },
  "language_info": {
   "codemirror_mode": {
    "name": "ipython",
    "version": 3
   },
   "file_extension": ".py",
   "mimetype": "text/x-python",
   "name": "python",
   "nbconvert_exporter": "python",
   "pygments_lexer": "ipython3",
   "version": "3.9.13"
  }
 },
 "nbformat": 4,
 "nbformat_minor": 5
}
