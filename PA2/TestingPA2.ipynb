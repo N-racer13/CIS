{
 "cells": [
  {
   "cell_type": "code",
   "execution_count": 1,
   "id": "9036850d",
   "metadata": {},
   "outputs": [],
   "source": [
    "import Interpolation as interpolate \n",
    "import numpy as np\n",
    "import Q4_mod as Q4\n",
    "import LoadfilePA2\n",
    "import PA2"
   ]
  },
  {
   "cell_type": "code",
   "execution_count": 2,
   "id": "2772ec3f",
   "metadata": {},
   "outputs": [],
   "source": [
    "def testdistortioncorrectionfunc():\n",
    "    \"\"\"\n",
    "    Test distortion by creating a random 3D matrix; adding some noise to create a distorted matrix; comparing the error between the matrices before and after distortion correction algorithm \n",
    "    \"\"\"\n",
    "    for i in range(10):\n",
    "        Cundistorted = np.random.rand(3,20,10)*10\n",
    "        noise = np.random.normal(0.0, np.random.rand(1)[0]*3, (3,20))\n",
    "        Cdistorted = np.array(Cundistorted)\n",
    "        for i in range(Cundistorted.shape[2]):\n",
    "            Cdistorted[:,:,i] += noise\n",
    "        coeffs, maxs, mins = interpolate.interpcoefficients(Cundistorted, Cdistorted)\n",
    "        pre_distortion_error = np.zeros(Cundistorted.shape[:2])\n",
    "        error = np.zeros(Cdistorted.shape[:2])\n",
    "        for j in range(Cdistorted.shape[2]):\n",
    "            slice_test = j\n",
    "            undistorted = interpolate.undistortmatrix(coeffs, maxs, mins, Cdistorted[:,:,slice_test])\n",
    "            pre_distortion_error += np.abs(Cundistorted[:,:,slice_test]-Cdistorted[:,:,slice_test])\n",
    "            error += np.abs(Cundistorted[:,:,slice_test]-undistorted)\n",
    "        print(\"Pre-distortion error: \" + str(np.mean(pre_distortion_error)/Cundistorted.shape[2]))\n",
    "        print(\"Post-distortion error: \" + str(np.mean(error)/Cundistorted.shape[2])+\"\\n\")"
   ]
  },
  {
   "cell_type": "code",
   "execution_count": 3,
   "id": "ca711565",
   "metadata": {},
   "outputs": [
    {
     "name": "stderr",
     "output_type": "stream",
     "text": [
      "/Users/aseemjain/Documents/Masters/CIS/PA2/Interpolation.py:33: FutureWarning: `rcond` parameter will change to the default of machine precision times ``max(M, N)`` where M and N are the input matrix dimensions.\n",
      "To use the future default and silence this warning we advise to pass `rcond=None`, to keep using the old, explicitly pass `rcond=-1`.\n",
      "  return np.linalg.lstsq(A,b)[0], maxs, mins\n"
     ]
    },
    {
     "name": "stdout",
     "output_type": "stream",
     "text": [
      "Pre-distortion error: 0.6360426418360166\n",
      "Post-distortion error: 0.0001414815538329403\n",
      "\n",
      "Pre-distortion error: 0.09479841080961167\n",
      "Post-distortion error: 2.258376511166515e-06\n",
      "\n",
      "Pre-distortion error: 1.998948952612255\n",
      "Post-distortion error: 0.0019903470876543945\n",
      "\n",
      "Pre-distortion error: 1.9097673609635422\n",
      "Post-distortion error: 8.403448547888176e-05\n",
      "\n",
      "Pre-distortion error: 0.8946309666200506\n",
      "Post-distortion error: 0.0014084975176803765\n",
      "\n",
      "Pre-distortion error: 0.38314432033745166\n",
      "Post-distortion error: 7.063244014434098e-09\n",
      "\n",
      "Pre-distortion error: 1.4444537007354548\n",
      "Post-distortion error: 0.00021208928326908052\n",
      "\n",
      "Pre-distortion error: 1.101629696426944\n",
      "Post-distortion error: 8.280668290101894e-05\n",
      "\n",
      "Pre-distortion error: 1.9920725530156294\n",
      "Post-distortion error: 2.028784679064388e-07\n",
      "\n",
      "Pre-distortion error: 0.8311084936043363\n",
      "Post-distortion error: 1.774766801467045e-08\n",
      "\n"
     ]
    }
   ],
   "source": [
    "testdistortioncorrectionfunc()"
   ]
  },
  {
   "cell_type": "code",
   "execution_count": 4,
   "id": "753df8aa",
   "metadata": {},
   "outputs": [],
   "source": [
    "def testdistortiondebugdatasets():\n",
    "    \"\"\"\n",
    "    Test distortion similar to above but with datasets give to us instead of random ones\n",
    "    \"\"\"\n",
    "    testchars = ['a','b','c','d','e','f']\n",
    "    path = \"data/pa2-debug-\"\n",
    "    calbodysuffix = \"-calbody.txt\"\n",
    "    calreadingssuffix = \"-calreadings.txt\"\n",
    "    for i in range(len(testchars)):\n",
    "        slice_test = 0\n",
    "        calbodyFile = path+testchars[i]+calbodysuffix\n",
    "        calreadingsFile = path+testchars[i]+calreadingssuffix\n",
    "        Cdistorted,Ctruth = Q4.distortion_calibration(calbodyFile, calreadingsFile)\n",
    "        coeffs, maxs, mins = interpolate.interpcoefficients(Ctruth, Cdistorted)\n",
    "        pre_distortion_error = np.zeros(Ctruth.shape[:2])\n",
    "        error = np.zeros(Cdistorted.shape[:2])\n",
    "        for j in range(Ctruth.shape[2]):\n",
    "            slice_test = j\n",
    "            undistorted = interpolate.undistortmatrix(coeffs, maxs, mins, Cdistorted[:,:,slice_test])\n",
    "            pre_distortion_error += np.abs(Ctruth[:,:,slice_test]-Cdistorted[:,:,slice_test])\n",
    "            error += np.abs(Ctruth[:,:,slice_test]-undistorted)\n",
    "        print(\"Testing debug dataset: \" + testchars[i])\n",
    "        print(\"Pre-distortion error: \" + str(np.mean(pre_distortion_error)/Ctruth.shape[2]))\n",
    "        print(\"Post-distortion error: \" + str(np.mean(error)/Ctruth.shape[2])+\"\\n\")"
   ]
  },
  {
   "cell_type": "code",
   "execution_count": 5,
   "id": "877ad151",
   "metadata": {},
   "outputs": [
    {
     "name": "stdout",
     "output_type": "stream",
     "text": [
      "Testing debug dataset: a\n",
      "Pre-distortion error: 0.0024527811173209427\n",
      "Post-distortion error: 0.002582772531522224\n",
      "\n",
      "Testing debug dataset: b\n",
      "Pre-distortion error: 0.2478062531384627\n",
      "Post-distortion error: 0.23703986931240806\n",
      "\n",
      "Testing debug dataset: c\n",
      "Pre-distortion error: 1.6405823606897194\n",
      "Post-distortion error: 0.004232683367478757\n",
      "\n",
      "Testing debug dataset: d\n",
      "Pre-distortion error: 0.005636874077232479\n",
      "Post-distortion error: 0.005437565008734616\n",
      "\n",
      "Testing debug dataset: e\n",
      "Pre-distortion error: 3.2860083911292204\n",
      "Post-distortion error: 0.009131937076944296\n",
      "\n",
      "Testing debug dataset: f\n",
      "Pre-distortion error: 3.233260067053712\n",
      "Post-distortion error: 0.09614896240448437\n",
      "\n"
     ]
    }
   ],
   "source": [
    "testdistortiondebugdatasets()"
   ]
  },
  {
   "cell_type": "code",
   "execution_count": 10,
   "id": "11a3d50b",
   "metadata": {},
   "outputs": [],
   "source": [
    "def testprocedure():\n",
    "    \"\"\"\n",
    "    Test the output from the main scipt against given output and print the errors for each data set \n",
    "    \"\"\"\n",
    "    test_chars = ['a', 'b', 'c', 'd', 'e', 'f']\n",
    "    path = \"data/pa2-debug-\"\n",
    "    for char in test_chars:\n",
    "        ground_truth = LoadfilePA2.loadOutput2(path+char+\"-output2.txt\")\n",
    "        output=PA2.runscript(path,char)\n",
    "        #print(output)\n",
    "        #print(ground_truth)\n",
    "        print(\"Average error in dataset \" + char + \": \" + str(np.mean(np.abs(ground_truth-output))))"
   ]
  },
  {
   "cell_type": "code",
   "execution_count": 11,
   "id": "c0986ef0",
   "metadata": {},
   "outputs": [
    {
     "name": "stdout",
     "output_type": "stream",
     "text": [
      "Testing the main procedure.\n",
      "--------------------------------------\n",
      "Average error in dataset a: 0.003339095034016933\n",
      "Average error in dataset b: 0.068594736118697\n",
      "Average error in dataset c: 0.016930140009873067\n",
      "Average error in dataset d: 0.003167940176156255\n",
      "Average error in dataset e: 0.09901382562470633\n",
      "Average error in dataset f: 0.11922334061640072\n"
     ]
    }
   ],
   "source": [
    "testprocedure()"
   ]
  },
  {
   "cell_type": "code",
   "execution_count": 12,
   "id": "4e61b4ad",
   "metadata": {},
   "outputs": [],
   "source": [
    "def main():\n",
    "    testdistortioncorrectionfunc()\n",
    "    testdistortiondebugdatasets()\n",
    "    testprocedure()\n",
    "    return"
   ]
  },
  {
   "cell_type": "code",
   "execution_count": 13,
   "id": "d6c012d3",
   "metadata": {},
   "outputs": [
    {
     "name": "stdout",
     "output_type": "stream",
     "text": [
      "Pre-distortion error: 1.8735572005806642\n",
      "Post-distortion error: 0.0003258952479123419\n",
      "\n",
      "Pre-distortion error: 0.0849214718913743\n",
      "Post-distortion error: 7.354777134943129e-09\n",
      "\n",
      "Pre-distortion error: 1.2815624281983147\n",
      "Post-distortion error: 1.108306501219324e-07\n",
      "\n",
      "Pre-distortion error: 1.029533402895123\n",
      "Post-distortion error: 0.00032000919832648317\n",
      "\n",
      "Pre-distortion error: 2.3651545994247307\n",
      "Post-distortion error: 0.00023369047699770248\n",
      "\n",
      "Pre-distortion error: 0.4257244240551549\n",
      "Post-distortion error: 1.660235298660736e-08\n",
      "\n",
      "Pre-distortion error: 2.272170204548968\n",
      "Post-distortion error: 5.181085767887808e-07\n",
      "\n",
      "Pre-distortion error: 0.17217738967225338\n",
      "Post-distortion error: 4.447351136922289e-09\n",
      "\n",
      "Pre-distortion error: 2.115906241842067\n",
      "Post-distortion error: 0.004408390671421052\n",
      "\n",
      "Pre-distortion error: 0.24312480776977746\n",
      "Post-distortion error: 5.124717144749039e-06\n",
      "\n",
      "Testing debug dataset: a\n",
      "Pre-distortion error: 0.0024527811173209427\n",
      "Post-distortion error: 0.002582772531522224\n",
      "\n",
      "Testing debug dataset: b\n",
      "Pre-distortion error: 0.2478062531384627\n",
      "Post-distortion error: 0.23703986931240806\n",
      "\n",
      "Testing debug dataset: c\n",
      "Pre-distortion error: 1.6405823606897194\n",
      "Post-distortion error: 0.004232683367478757\n",
      "\n",
      "Testing debug dataset: d\n",
      "Pre-distortion error: 0.005636874077232479\n",
      "Post-distortion error: 0.005437565008734616\n",
      "\n",
      "Testing debug dataset: e\n",
      "Pre-distortion error: 3.2860083911292204\n",
      "Post-distortion error: 0.009131937076944296\n",
      "\n",
      "Testing debug dataset: f\n",
      "Pre-distortion error: 3.233260067053712\n",
      "Post-distortion error: 0.09614896240448437\n",
      "\n",
      "Testing the main procedure.\n",
      "--------------------------------------\n",
      "Average error in dataset a: 0.003339095034016933\n",
      "Average error in dataset b: 0.068594736118697\n",
      "Average error in dataset c: 0.016930140009873067\n",
      "Average error in dataset d: 0.003167940176156255\n",
      "Average error in dataset e: 0.09901382562470633\n",
      "Average error in dataset f: 0.11922334061640072\n"
     ]
    }
   ],
   "source": [
    "if __name__ == '__main__':\n",
    "    main()"
   ]
  },
  {
   "cell_type": "code",
   "execution_count": null,
   "id": "b0931d58",
   "metadata": {},
   "outputs": [],
   "source": []
  }
 ],
 "metadata": {
  "kernelspec": {
   "display_name": "Python 3 (ipykernel)",
   "language": "python",
   "name": "python3"
  },
  "language_info": {
   "codemirror_mode": {
    "name": "ipython",
    "version": 3
   },
   "file_extension": ".py",
   "mimetype": "text/x-python",
   "name": "python",
   "nbconvert_exporter": "python",
   "pygments_lexer": "ipython3",
   "version": "3.9.13"
  }
 },
 "nbformat": 4,
 "nbformat_minor": 5
}
