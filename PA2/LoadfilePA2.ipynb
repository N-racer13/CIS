{
 "cells": [
  {
   "cell_type": "code",
   "execution_count": 1,
   "id": "35396575",
   "metadata": {},
   "outputs": [],
   "source": [
    "import os \n",
    "import numpy as np"
   ]
  },
  {
   "cell_type": "code",
   "execution_count": 8,
   "id": "91515497",
   "metadata": {
    "scrolled": true
   },
   "outputs": [],
   "source": [
    "def loadCalbody(filepath):\n",
    "    \"\"\"\n",
    "    Loads in the data in files of the format NAME-CALBODY.TXT.\n",
    "    Three 2-D matrices are produced, holding vectors d, a, c, respectively.\n",
    "    Each matrix has 3 rows and N_d, N_a, N_c columns respectively.\n",
    "    Each column corresponds to a vector, and each row corresponds to a dimension of the vectors.\n",
    "    \"\"\"\n",
    "\n",
    "    firstline=np.genfromtxt(filepath,max_rows=1,delimiter=\",\").astype(int); \n",
    "    datacalbody=np.double(np.genfromtxt(filepath,skip_header=1,delimiter=\",\"));\n",
    "    Nd=(firstline[0]);\n",
    "    Na=(firstline[1]); \n",
    "    Nc=(firstline[2]);\n",
    "\n",
    "    dmatrix=datacalbody[0:Nd]; \n",
    "    amatrix=datacalbody[Nd:Na+Nd];\n",
    "    cmatrix=datacalbody[Na+Nd:Na+Nd+Nc];\n",
    "    return dmatrix.T, amatrix.T, cmatrix.T "
   ]
  },
  {
   "cell_type": "code",
   "execution_count": 20,
   "id": "94f9fac8",
   "metadata": {},
   "outputs": [],
   "source": [
    "def loadCalReadings(filepath):\n",
    "    \"\"\"\n",
    "    Loads in the data in files of the format NAME-CALREADINGS.TXT.\n",
    "    Three 3-D matrices are produced, holding vectors D, A, C, respectively.\n",
    "    each matrix has 3 row, N_D, N_A, N_C columns, and N_frames height.\n",
    "    Each row corresponds to a vector, each column corresponds to a physical dimension, each height  to a frame.\n",
    "    \"\"\"\n",
    "    firstline=np.genfromtxt(filepath,max_rows=1,delimiter=\",\").astype(int); \n",
    "    datacalreading=np.double(np.genfromtxt(filepath,skip_header=1,delimiter=\",\"));\n",
    "    Nd=(firstline[0]);\n",
    "    Na=(firstline[1]); \n",
    "    Nc=(firstline[2]);\n",
    "    Nf=(firstline[3]);\n",
    "    \n",
    "    Dmatrix=np.zeros((3,Nd,Nf));\n",
    "    Amatrix=np.zeros((3,Na,Nf));\n",
    "    Cmatrix=np.zeros((3,Nc,Nf));\n",
    "    \n",
    "    for i in range(Nf):\n",
    "        index=i*(Nd+Na+Nc);\n",
    "        Dmatrix[:,:,i]=datacalreading[index:Nd+index].T;\n",
    "        Amatrix[:,:,i]=datacalreading[Nd+index:Nd+Na+index].T; \n",
    "        Cmatrix[:,:,i]=datacalreading[Nd+Na+index:Nd+Na+Nc+index].T; \n",
    "\n",
    "    return Dmatrix, Amatrix, Cmatrix\n"
   ]
  },
  {
   "cell_type": "code",
   "execution_count": null,
   "id": "393e7f6b",
   "metadata": {},
   "outputs": [],
   "source": [
    "def loadEMPivot(filepath):\n",
    "    \"\"\"\n",
    "    Loads in the data in files of the format NAME-EMPIVOT.TXT.\n",
    "    One 3-D matrix is produced, holding vectors G, respectively.\n",
    "    each matrix has 3 columns, N_G rows, and N_frames height.\n",
    "    Each row corresponds to a vector, each column corresponds to a physical dimension, each height  to a frame.\n",
    "    \"\"\"\n",
    "    firstline=np.genfromtxt(filepath,max_rows=1,delimiter=\",\").astype(int); \n",
    "    dataempivot=np.double(np.genfromtxt(filepath,skip_header=1,delimiter=\",\"));\n",
    "    Ng=(firstline[0]);\n",
    "    Nf=(firstline[1]); \n",
    " \n",
    "    Gmatrix=np.zeros((3,Ng,Nf));\n",
    "    \n",
    "    for i in range(Nf):\n",
    "        index=i*(Ng);\n",
    "        Gmatrix[:,:,i]=dataempivot[index:Ng+index].T;\n",
    "    return Gmatrix"
   ]
  },
  {
   "cell_type": "code",
   "execution_count": null,
   "id": "5664bad8",
   "metadata": {},
   "outputs": [],
   "source": [
    "def loadOptpivot(filepath):\n",
    "    \"\"\"\n",
    "    Loads in the data in files of the format NAME-OPTPIVOT.TXT.\n",
    "    Two 3-D matrices are produced, holding vectors D and H respectively.\n",
    "    each matrix has 3 columns, N_D, N_H rows, and N_frames height.\n",
    "    Each row corresponds to a vector, each column corresponds to a physical dimension, each height  to a frame.\n",
    "    \"\"\"\n",
    "    firstline=np.genfromtxt(filepath,max_rows=1,delimiter=\",\").astype(int); \n",
    "    dataempivot=np.double(np.genfromtxt(filepath,skip_header=1,delimiter=\",\"));\n",
    "    Nd=(firstline[0]);\n",
    "    Nh=(firstline[1]); \n",
    "    Nf=(firstline[2]); \n",
    "    \n",
    "    Dmatrix=np.zeros((3,Nd,Nf));\n",
    "    Hmatrix=np.zeros((3,Nh,Nf))\n",
    "    \n",
    "\n",
    "    for i in range(Nf):\n",
    "        index=i*(Nd+Nh);\n",
    "        Dmatrix[:,:,i]=dataempivot[index:Nd+index].T;\n",
    "        Hmatrix[:,:,i]=dataempivot[Nd+index:Nd+Nh+index].T;\n",
    "    return Dmatrix,Hmatrix\n"
   ]
  },
  {
   "cell_type": "code",
   "execution_count": 27,
   "id": "8df192b5",
   "metadata": {},
   "outputs": [],
   "source": [
    "def loadOutput1(filepath):\n",
    "    \"\"\"\n",
    "    Loads in the data in files of the format NAME-OUTPUT-1.TXT.\n",
    "    Three 3-D matrices are produced, holding vectors D and H respectively.\n",
    "    each matrix has 3 columns, N_D, N_H rows, and N_frames height.\n",
    "    Each row corresponds to a vector, each column corresponds to a physical dimension, each height  to a frame.\n",
    "    \"\"\"\n",
    "    firstline=np.genfromtxt(filepath,max_rows=1,delimiter=\",\").astype(int); \n",
    "    Pem=np.double(np.genfromtxt(filepath,skip_header=1,max_rows=1,delimiter=\",\"));\n",
    "    Pom=np.double(np.genfromtxt(filepath,skip_header=2,max_rows=1,delimiter=\",\"));\n",
    "    dataoutput=np.double(np.genfromtxt(filepath,skip_header=3,delimiter=\",\"));\n",
    "    Nc=(firstline[0]);\n",
    "    Nf=(firstline[1]); \n",
    "\n",
    "\n",
    "    Cmatrix=np.zeros((3,Nc,Nf));\n",
    "\n",
    "    for i in range(Nf):\n",
    "        index=i*(Nc);\n",
    "        Cmatrix[:,:,i]=dataoutput[index:Nc+index].T;\n",
    "    return Cmatrix,Pem,Pom,\n",
    "      \n"
   ]
  },
  {
   "cell_type": "code",
   "execution_count": 23,
   "id": "79cc6f96",
   "metadata": {},
   "outputs": [],
   "source": [
    "def writeOutput1(filepath, ECMatrix, EMprobepos, optprobepos):\n",
    "   \n",
    "    outFile = open(filepath, 'w')\n",
    "    outFile.write(str(ECMatrix.shape[1]) + \",\\t\" + str(ECMatrix.shape[2]) + \",\\t\" + filePath + \"\\n\")\n",
    "    outFile.write(\"\\t%.2f,\\t%.2f,\\t%.2f\\n\" % (EMprobepos.ravel()[0],\n",
    "                             EM_probe_pos.ravel()[1], EMprobepos.ravel()[2]))\n",
    "    outFile.write(\"\\t%.2f,\\t%.2f,\\t%.2f\\n\" % (optprobepos.ravel()[0],\n",
    "                             optprobepos.ravel()[1], optprobepos.ravel()[2]))\n",
    "    for k in range(ECMatrix.shape[2]):\n",
    "        for i in range(ECMatrix.shape[1]):\n",
    "            vec = ECMatrix[:,i,k]\n",
    "            outFile.write(\"\\t%.2f,\\t%.2f,\\t%.2f\\n\" % (vec[0], vec[1], vec[2]))\n",
    "    outFile.close()"
   ]
  },
  {
   "cell_type": "code",
   "execution_count": 3,
   "id": "f5aac221",
   "metadata": {},
   "outputs": [],
   "source": [
    "def loadOutput2(filepath):\n",
    "    \"\"\"\n",
    "    Loads in the data in files of the format NAME-OUTPUT-2.TXT.\n",
    "    A 3xNf numpy matrix that contains probe tip locations in CT coordinate system.\n",
    "    \"\"\"\n",
    "    firstline=np.genfromtxt(filepath,max_rows=1,delimiter=\",\").astype(int); \n",
    "    dataoutput=np.double(np.genfromtxt(filepath,skip_header=1,delimiter=\",\"));\n",
    "    Nf=(firstline[0]); \n",
    "    CTprobe= np.zeros((3,Nf))\n",
    "    for i in range(Nf):\n",
    "        CTprobe[:,i]=dataoutput[i,:].T;\n",
    "    return CTprobe"
   ]
  },
  {
   "cell_type": "code",
   "execution_count": 4,
   "id": "27301f73",
   "metadata": {},
   "outputs": [],
   "source": [
    "def writeOutput2(filePath, ctpoints):\n",
    "    \"\"\"\n",
    "    Writes the output file given the results for expected C_Matrix EM- and optical pivot calibration.\n",
    "    This is the output that corresponds to assignment 1.\n",
    "    :param filePath: path to file to be saved\n",
    "    :param ct_nav_points: 3xF numpy array, where N is the number of points and F the number of frames\n",
    "    \"\"\"\n",
    "    outFile = open(filePath, 'w')\n",
    "    outFile.write(str(ctpoints.shape[1]) + \",\\t\" + filePath + \"\\n\")\n",
    "    for i in range(ctpoints.shape[1]):\n",
    "        vec = ctpoints[:,i]\n",
    "        outFile.write(\"\\t%.2f,\\t%.2f,\\t%.2f\\n\" % (vec[0], vec[1], vec[2]))\n",
    "    outFile.close()"
   ]
  },
  {
   "cell_type": "code",
   "execution_count": 5,
   "id": "02b2ca56",
   "metadata": {},
   "outputs": [],
   "source": [
    "def loadEMNav(filepath):\n",
    "    firstline=np.genfromtxt(filepath,max_rows=1,delimiter=\",\").astype(int); \n",
    "    dataemnav=np.double(np.genfromtxt(filepath,skip_header=1,delimiter=\",\"));\n",
    "    Ng=(firstline[0]);\n",
    "    Nf=(firstline[1]); \n",
    " \n",
    "    GEMmatrix=np.zeros((3,Ng,Nf));\n",
    "    \n",
    "    for i in range(Nf):\n",
    "        index=i*(Ng);\n",
    "        GEMmatrix[:,:,i]=dataemnav[index:Ng+index].T;\n",
    "    return GEMmatrix"
   ]
  },
  {
   "cell_type": "code",
   "execution_count": 6,
   "id": "0027ca3d",
   "metadata": {},
   "outputs": [],
   "source": [
    "def loadEMFiducial(filepath):\n",
    "    firstline=np.genfromtxt(filepath,max_rows=1,delimiter=\",\").astype(int); \n",
    "    dataemfid=np.double(np.genfromtxt(filepath,skip_header=1,delimiter=\",\"));\n",
    "    Ng=(firstline[0]);\n",
    "    Nf=(firstline[1]); \n",
    " \n",
    "    Gfidmatrix=np.zeros((3,Ng,Nf));\n",
    "    \n",
    "    for i in range(Nf):\n",
    "        index=i*(Ng);\n",
    "        Gfidmatrix[:,:,i]=dataemfid[index:Ng+index].T;\n",
    "    return Gfidmatrix"
   ]
  },
  {
   "cell_type": "code",
   "execution_count": 7,
   "id": "9dd988ca",
   "metadata": {},
   "outputs": [],
   "source": [
    "def loadCTFiducial(filepath):\n",
    "    firstline=np.genfromtxt(filepath,max_rows=1,delimiter=\",\").astype(int); \n",
    "    dataCTfid=np.double(np.genfromtxt(filepath,skip_header=1,delimiter=\",\"));\n",
    "    Nb=(firstline[0]);\n",
    " \n",
    "    CTfid=np.zeros((3,Nb));\n",
    "    \n",
    "    for i in range(Nb):\n",
    "        CTfid[:,i]=dataCTfid[i,:].T;\n",
    "    return CTfid"
   ]
  },
  {
   "cell_type": "code",
   "execution_count": null,
   "id": "9f509954",
   "metadata": {},
   "outputs": [],
   "source": []
  }
 ],
 "metadata": {
  "kernelspec": {
   "display_name": "Python 3.9 (XPython)",
   "language": "python",
   "name": "xpython"
  },
  "language_info": {
   "file_extension": ".py",
   "mimetype": "text/x-python",
   "name": "python",
   "version": "3.9.13"
  }
 },
 "nbformat": 4,
 "nbformat_minor": 5
}
