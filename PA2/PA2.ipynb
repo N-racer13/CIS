{
 "cells": [
  {
   "cell_type": "code",
   "execution_count": 1,
   "id": "1760deb8",
   "metadata": {},
   "outputs": [],
   "source": [
    "import numpy as np\n",
    "import Q4_mod as Q4\n",
    "import LoadfilePA2\n",
    "import Interpolation\n",
    "import Q5_mod as Q5\n",
    "import Fiducials"
   ]
  },
  {
   "cell_type": "code",
   "execution_count": 5,
   "id": "924014c7",
   "metadata": {},
   "outputs": [],
   "source": [
    "def runscript(path,char):\n",
    "    \"\"\"\n",
    "    Main script; commented below \n",
    "    \"\"\"\n",
    "    calbodyFile = path+char+\"-calbody.txt\"\n",
    "    calreadingsFile = path+char+\"-calreadings.txt\"\n",
    "    EMPivotFile = path+char+\"-empivot.txt\"\n",
    "    optPivotFile = path+char+\"-optpivot.txt\"\n",
    "    emFiducialsFile=path+char+\"-em-fiducialss.txt\"\n",
    "    ctFiducialsFile=path+char+\"-ct-fiducials.txt\"\n",
    "    emNavFile=path+char+\"-EM-nav.txt\"\n",
    "\n",
    "    Cexpect,C = Q4.distortion_calibration(calbodyFile, calreadingsFile)\n",
    "\n",
    "    # Procedure part 2 interpolation coefficients using bernsteins polynomials \n",
    "    coeffs, maxs, mins = Interpolation.interpcoefficients(Cexpect, C)\n",
    "\n",
    "    # Procedure part 3 do the pivot calibration with correction \n",
    "    tg,Pdimple,gvecs = Q5.EM_pivot(EMPivotFile, coeffs, maxs, mins)\n",
    "\n",
    "    # Procedure part 4 compute the location of the tracker location relative to the EM space\n",
    "    tracker_fiducials = Fiducials.computetrackerfiducials(emFiducialsFile, tg, gvecs, coeffs, maxs, mins)\n",
    "\n",
    "    # Procedure part 5 compute the transformation between the EM and the CT space \n",
    "    R_reg, p_reg = Fiducials.calculateFreg(ctFiducialsFile, tracker_fiducials)\n",
    "\n",
    "    # Procedure part 6 use the previous transformation to compute the location corrections within the CT space\n",
    "    ct_nav_points = Fiducials.findnavctpoints(emNavFile, tg, gvecs, R_reg, p_reg, coeffs, maxs, mins)\n",
    "    return ct_nav_points"
   ]
  },
  {
   "cell_type": "code",
   "execution_count": 3,
   "id": "fd9d1a53",
   "metadata": {},
   "outputs": [],
   "source": [
    "def main():\n",
    "    char=input('What dataset do you want to test: ')\n",
    "    path= \"data/pa2-unknown-\"\n",
    "    output=runscript(path,char); \n",
    "    path2 = \"output/pa2-unknown-\"\n",
    "    outputFile = path2+char+\"-output2.txt\"\n",
    "    LoadfilePA2.writeOutput2(outputFile, output)"
   ]
  },
  {
   "cell_type": "code",
   "execution_count": null,
   "id": "64bcf8e2",
   "metadata": {
    "scrolled": false
   },
   "outputs": [],
   "source": [
    "if __name__ == '__main__':\n",
    "    main()"
   ]
  }
 ],
 "metadata": {
  "kernelspec": {
   "display_name": "Python 3 (ipykernel)",
   "language": "python",
   "name": "python3"
  },
  "language_info": {
   "codemirror_mode": {
    "name": "ipython",
    "version": 3
   },
   "file_extension": ".py",
   "mimetype": "text/x-python",
   "name": "python",
   "nbconvert_exporter": "python",
   "pygments_lexer": "ipython3",
   "version": "3.9.13"
  }
 },
 "nbformat": 4,
 "nbformat_minor": 5
}
