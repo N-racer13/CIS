{
 "cells": [
  {
   "cell_type": "code",
   "execution_count": 17,
   "id": "fdd17a2a",
   "metadata": {},
   "outputs": [],
   "source": [
    "import LoadfilePA2 as Loadfile \n",
    "import Interpolation as interpolate \n",
    "import Q2\n",
    "import Carthesian_math_package\n",
    "import numpy as np"
   ]
  },
  {
   "cell_type": "code",
   "execution_count": 12,
   "id": "14a3d24c",
   "metadata": {},
   "outputs": [],
   "source": [
    "def getcoordtransformations(Gframes, gvecs):\n",
    "    \"\"\"\n",
    "    Finds the transformation between a center frame and the other frames\n",
    "    \"\"\"\n",
    "    Rlist = []\n",
    "    plist = []\n",
    "    for f in range(Gframes.shape[2]):\n",
    "        R, p = Q2.Registration(gvecs, Gframes[:, :, f])\n",
    "        Rlist.append(R)\n",
    "        plist.append(p)\n",
    "    return Rlist, plist"
   ]
  },
  {
   "cell_type": "code",
   "execution_count": 13,
   "id": "47b4104e",
   "metadata": {},
   "outputs": [],
   "source": [
    "def gettiplocations(emfiducialsdata, tg, gvecs):\n",
    "    \"\"\"\n",
    "    Calculates the transformation of the tip of the fiducial relative to each frame in the EM space\n",
    "    \"\"\"\n",
    "    Rlist, plist = getcoordtransformations(emfiducialsdata, gvecs)\n",
    "    fiducials = np.zeros((3, emfiducialsdata.shape[2]))\n",
    "    for i in range(len(plist)):\n",
    "        fiducials[:, i] = Carthesian_math_package.Transformation(np.reshape(tg, (3,1)),Rlist[i], plist[i]).ravel()\n",
    "    return fiducials"
   ]
  },
  {
   "cell_type": "code",
   "execution_count": 14,
   "id": "6b7bc8c6",
   "metadata": {},
   "outputs": [],
   "source": [
    "def computetrackerfiducials(emfiducialsfile, tg, gvecs, coeffs, maxs, mins):\n",
    "     \"\"\"\n",
    "       Undistorts the EM fiducial data and calculates the locations of fiducials \n",
    "    \"\"\"\n",
    "    EMFiducials=Loadfile.loadEMFiducial(emfiducialsfile)\n",
    "    emfiducialsdata = interpolate.undistortframes(coeffs, maxs, mins,EMFiducials)\n",
    "    fiducials=gettiplocations(emfiducialsdata, tg, gvecs)\n",
    "    return fiducials"
   ]
  },
  {
   "cell_type": "code",
   "execution_count": 15,
   "id": "1ed18961",
   "metadata": {},
   "outputs": [],
   "source": [
    "def calculateFreg(ctfiducialsfile, emfiducials):\n",
    "    \"\"\"\n",
    "    Calculates transformation between em and ct space\n",
    "    \"\"\"\n",
    "    ctfiducials = Loadfile.loadCTFiducial(ctfiducialsfile)\n",
    "    return Q2.Registration(emfiducials,ctfiducials)\n"
   ]
  },
  {
   "cell_type": "code",
   "execution_count": 16,
   "id": "4aa2ce41",
   "metadata": {},
   "outputs": [],
   "source": [
    "def findnavctpoints(emnavfile, tg, gvecs, Rreg, preg, coeffs, maxs, mins):\n",
    "    \"\"\"\n",
    "    Undistorts the CT fiducial data and calculates the locations of fiducials in CT space   \n",
    "    \"\"\"\n",
    "    EMNav=Loadfile.loadEMNav(emnavfile)\n",
    "    emnavdata = interpolate.undistortframes(coeffs, maxs, mins,EMNav)\n",
    "    locations=gettiplocations(emnavdata, tg, gvecs)\n",
    "    return Carthesian_math_package.Transformation(locations, Rreg, preg)\n"
   ]
  },
  {
   "cell_type": "code",
   "execution_count": null,
   "id": "69848c1b",
   "metadata": {},
   "outputs": [],
   "source": []
  },
  {
   "cell_type": "code",
   "execution_count": null,
   "id": "dd0fce76",
   "metadata": {},
   "outputs": [],
   "source": []
  }
 ],
 "metadata": {
  "kernelspec": {
   "display_name": "Python 3 (ipykernel)",
   "language": "python",
   "name": "python3"
  },
  "language_info": {
   "codemirror_mode": {
    "name": "ipython",
    "version": 3
   },
   "file_extension": ".py",
   "mimetype": "text/x-python",
   "name": "python",
   "nbconvert_exporter": "python",
   "pygments_lexer": "ipython3",
   "version": "3.9.13"
  }
 },
 "nbformat": 4,
 "nbformat_minor": 5
}
