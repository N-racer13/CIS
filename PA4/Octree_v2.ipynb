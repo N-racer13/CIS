{
 "cells": [
  {
   "cell_type": "code",
   "execution_count": 10,
   "id": "f023a53f",
   "metadata": {},
   "outputs": [],
   "source": [
    "import methods\n",
    "import numpy as np\n",
    "MIN_COUNT = 8\n"
   ]
  },
  {
   "cell_type": "code",
   "execution_count": 9,
   "id": "0a846828",
   "metadata": {},
   "outputs": [],
   "source": [
    "a=np.array([1,2,1]).T\n",
    "b=np.array([1,3,1]).T\n",
    "c=np.array([1,3,2]).T"
   ]
  },
  {
   "cell_type": "code",
   "execution_count": 2,
   "id": "ead281aa",
   "metadata": {},
   "outputs": [],
   "source": [
    "class Sphere:\n",
    "    \"\"\"\n",
    "    Class for a sphere object containing a triangle. Member variables are:\n",
    "    v1, v2, v3 (3 element arrays) - the three vertices of the triangle\n",
    "    center (3 element array) - the center of the sphere\n",
    "    radius (float) - the radius of the sphere\n",
    "    \"\"\"\n",
    "    def __init__(self, v1, v2, v3):\n",
    "        \"\"\"\n",
    "        Creates Sphere object based on vertices of triangle that should be contained by Sphere\n",
    "        :param v1: 3 element vector, a vertex of the triangle\n",
    "        :param v2: 3 element vector, a vertex of the triangle\n",
    "        :param v3: 3 element vector, a vertex of the triangle\n",
    "        \"\"\"\n",
    "        self.v1 = v1\n",
    "        self.v2 = v2\n",
    "        self.v3 = v3\n",
    "        center, self.radius = methods.CreateSphere(self.v1, self.v2, self.v3)\n",
    "        self.center = center.ravel()\n"
   ]
  },
  {
   "cell_type": "code",
   "execution_count": 11,
   "id": "110f27f3",
   "metadata": {},
   "outputs": [],
   "source": [
    "class BoundingBoxTreeNode:\n",
    "    \"\"\"\n",
    "    Class for a node of the octree. Member variables are:\n",
    "    spheres (list of Sphere objects) - list of spheres contained by this node\n",
    "    nS (integer) - number of spheres contained by this node\n",
    "    center (3 element array) - the average center of all spheres contained in this object\n",
    "    max_radius (float) - the radius of the largest sphere contained by this node\n",
    "    LB (3 element array) - the lower bound for each dimension to form the cube\n",
    "    UB (3 element array) - the upper bound for each dimension to form the cube\n",
    "    has_subtrees (boolean) - whether or not this node has children\n",
    "    subtrees (8 element array of BoundingBoxTreeNode objects) - array containing all the children of this node\n",
    "    \"\"\"\n",
    "    def __init__(self, bounding_spheres):\n",
    "        \"\"\"\n",
    "        Creates a BoundingBoxTreeNode object based on a list of spheres\n",
    "        :param bounding_spheres: list of Sphere objects to be contained in this node\n",
    "        \"\"\"\n",
    "        self.spheres = bounding_spheres\n",
    "        self.nS = len(self.spheres)\n",
    "        self.center, self.max_radius, self.LB, self.UB = self.get_properties()\n",
    "        self.has_subtrees = self.nS > MIN_COUNT\n",
    "        self.subtrees = [None] * 8\n",
    "        if self.has_subtrees:\n",
    "            self.construct_subtrees()\n",
    "            \n",
    "    def construct_subtrees(self):\n",
    "        \"\"\"\n",
    "        Constructs all the subtrees of this node\n",
    "        \"\"\"\n",
    "        sphere_bins = self.split_sort()\n",
    "        for i in range(8):\n",
    "            self.subtrees[i] = BoundingBoxTreeNode(sphere_bins[i])\n",
    "    def split_sort(self):\n",
    "        \"\"\"\n",
    "        Partitions the list of spheres based on the location of each sphere in relation to the overall center\n",
    "        :return: sphere_bins, a list containing 8 lists of spheres, forming a partition so that each list contains the\n",
    "        spheres in one sub-region of the cube\n",
    "        \"\"\"\n",
    "        sphere_bins = list()\n",
    "        for i in range(8):\n",
    "            sphere_bins.append(list())\n",
    "        for sphere in self.spheres:\n",
    "            bin_num = 0\n",
    "            center = sphere.center\n",
    "            if center[0] < self.center[0]:\n",
    "                bin_num += 1\n",
    "            if center[1] < self.center[1]:\n",
    "                bin_num += 2\n",
    "            if center[2] < self.center[2]:\n",
    "                bin_num += 4\n",
    "            sphere_bins[bin_num].append(sphere)\n",
    "        return sphere_bins\n",
    "    def find_closest_point(self, v, bound, closest):\n",
    "        \"\"\"\n",
    "\n",
    "        :param v: 3 element array, the point we're searching\n",
    "        :param bound: float scalar, the distance to the closest point so far\n",
    "        :param closest: 3 element array, the closest point so far\n",
    "        :return: updated bound and closest point\n",
    "        \"\"\"\n",
    "        if self.nS == 0:\n",
    "            return bound, closest\n",
    "        dist = bound + self.max_radius\n",
    "        print(v)\n",
    "        print(bound)\n",
    "        if (v[0] > (dist + self.UB[0]) or v[0] < self.LB[0] - dist or\n",
    "                v[1] > dist + self.UB[1] or v[1] < self.LB[1] - dist or\n",
    "                v[2] > dist + self.UB[2] or v[2] < self.LB[2] - dist):\n",
    "            return bound, closest\n",
    "        if self.has_subtrees:\n",
    "            for subtree in self.subtrees:\n",
    "                bound, closest = subtree.find_closest_point(v, bound, closest)\n",
    "        else:\n",
    "            for sphere in self.spheres:\n",
    "                cp = methods.ClosestPointTriangle(sphere.v1, sphere.v2, sphere.v3, v)\n",
    "                dist = np.linalg.norm(cp-v)\n",
    "                if dist < bound:\n",
    "                    bound = dist\n",
    "                    closest = cp\n",
    "        return bound, closest\n",
    "    "
   ]
  },
  {
   "cell_type": "code",
   "execution_count": null,
   "id": "88264fa2",
   "metadata": {},
   "outputs": [],
   "source": [
    "\n"
   ]
  },
  {
   "cell_type": "code",
   "execution_count": null,
   "id": "969e4101",
   "metadata": {},
   "outputs": [],
   "source": [
    "\n",
    "        "
   ]
  },
  {
   "cell_type": "code",
   "execution_count": null,
   "id": "b5fa7427",
   "metadata": {},
   "outputs": [],
   "source": []
  }
 ],
 "metadata": {
  "kernelspec": {
   "display_name": "Python 3 (ipykernel)",
   "language": "python",
   "name": "python3"
  },
  "language_info": {
   "codemirror_mode": {
    "name": "ipython",
    "version": 3
   },
   "file_extension": ".py",
   "mimetype": "text/x-python",
   "name": "python",
   "nbconvert_exporter": "python",
   "pygments_lexer": "ipython3",
   "version": "3.9.13"
  }
 },
 "nbformat": 4,
 "nbformat_minor": 5
}
